{
  "nbformat": 4,
  "nbformat_minor": 0,
  "metadata": {
    "colab": {
      "name": "Numpy_introução.ipynb",
      "provenance": [],
      "authorship_tag": "ABX9TyOE6T6K4QSbSEa0EgqpqKti"
    },
    "kernelspec": {
      "name": "python3",
      "display_name": "Python 3"
    }
  },
  "cells": [
    {
      "cell_type": "markdown",
      "metadata": {
        "id": "540DHqvOy1gg",
        "colab_type": "text"
      },
      "source": [
        "## **NUMPY**"
      ]
    },
    {
      "cell_type": "markdown",
      "metadata": {
        "id": "G-__3t_v0N8h",
        "colab_type": "text"
      },
      "source": [
        "**Primeiros comandos**"
      ]
    },
    {
      "cell_type": "code",
      "metadata": {
        "id": "ela65SDV0nye",
        "colab_type": "code",
        "colab": {}
      },
      "source": [
        "#importando o numpy\n",
        "import numpy as np"
      ],
      "execution_count": 0,
      "outputs": []
    },
    {
      "cell_type": "code",
      "metadata": {
        "id": "bvyjpXvu0_Cy",
        "colab_type": "code",
        "outputId": "a17920e1-b228-42ff-e6c4-8d7f87a86f74",
        "colab": {
          "base_uri": "https://localhost:8080/",
          "height": 51
        }
      },
      "source": [
        "#Criando um array\n",
        "a=np.array([2,5,7])\n",
        "print(a)\n",
        "a.dtype"
      ],
      "execution_count": 3,
      "outputs": [
        {
          "output_type": "stream",
          "text": [
            "[2 5 7]\n"
          ],
          "name": "stdout"
        },
        {
          "output_type": "execute_result",
          "data": {
            "text/plain": [
              "dtype('int64')"
            ]
          },
          "metadata": {
            "tags": []
          },
          "execution_count": 3
        }
      ]
    },
    {
      "cell_type": "code",
      "metadata": {
        "id": "AsVKUm_62aHE",
        "colab_type": "code",
        "outputId": "7e9f7027-d1c8-4ed5-9865-56e1682fbf43",
        "colab": {
          "base_uri": "https://localhost:8080/",
          "height": 34
        }
      },
      "source": [
        "#Outro array\n",
        "b= np.array([[2,3,4],[5,6,7]])\n",
        "b.ndim\n"
      ],
      "execution_count": 4,
      "outputs": [
        {
          "output_type": "execute_result",
          "data": {
            "text/plain": [
              "2"
            ]
          },
          "metadata": {
            "tags": []
          },
          "execution_count": 4
        }
      ]
    },
    {
      "cell_type": "code",
      "metadata": {
        "id": "W1BgW_Qv29BQ",
        "colab_type": "code",
        "outputId": "79034920-8f41-4c4c-d66e-9b545aad4214",
        "colab": {
          "base_uri": "https://localhost:8080/",
          "height": 51
        }
      },
      "source": [
        "#Podemos definir um array na hora da criação\n",
        "#Criando um array complexo\n",
        "comp_array=np.array([(2+1j,3),(5,6)], dtype=complex)\n",
        "comp_array"
      ],
      "execution_count": 5,
      "outputs": [
        {
          "output_type": "execute_result",
          "data": {
            "text/plain": [
              "array([[2.+1.j, 3.+0.j],\n",
              "       [5.+0.j, 6.+0.j]])"
            ]
          },
          "metadata": {
            "tags": []
          },
          "execution_count": 5
        }
      ]
    },
    {
      "cell_type": "code",
      "metadata": {
        "id": "EBvTsKKs4JTV",
        "colab_type": "code",
        "outputId": "f68b1610-d939-4b10-925f-0fb921a2f177",
        "colab": {
          "base_uri": "https://localhost:8080/",
          "height": 51
        }
      },
      "source": [
        "#Criando um array de zeros\n",
        "zeros = np.zeros((2,3))\n",
        "zeros"
      ],
      "execution_count": 6,
      "outputs": [
        {
          "output_type": "execute_result",
          "data": {
            "text/plain": [
              "array([[0., 0., 0.],\n",
              "       [0., 0., 0.]])"
            ]
          },
          "metadata": {
            "tags": []
          },
          "execution_count": 6
        }
      ]
    },
    {
      "cell_type": "code",
      "metadata": {
        "id": "2vIAMrUC7MUr",
        "colab_type": "code",
        "outputId": "e37ea276-663b-45eb-bff6-1044b4022874",
        "colab": {
          "base_uri": "https://localhost:8080/",
          "height": 85
        }
      },
      "source": [
        "#Criando um array de número um\n",
        "um_array= np.ones((4,7))\n",
        "um_array"
      ],
      "execution_count": 7,
      "outputs": [
        {
          "output_type": "execute_result",
          "data": {
            "text/plain": [
              "array([[1., 1., 1., 1., 1., 1., 1.],\n",
              "       [1., 1., 1., 1., 1., 1., 1.],\n",
              "       [1., 1., 1., 1., 1., 1., 1.],\n",
              "       [1., 1., 1., 1., 1., 1., 1.]])"
            ]
          },
          "metadata": {
            "tags": []
          },
          "execution_count": 7
        }
      ]
    },
    {
      "cell_type": "code",
      "metadata": {
        "id": "2a8A-3mK76Fu",
        "colab_type": "code",
        "outputId": "dfdc477f-42e3-4a7b-802b-678bf6325877",
        "colab": {
          "base_uri": "https://localhost:8080/",
          "height": 34
        }
      },
      "source": [
        "#Array de sequancia de números\n",
        "seq_array = np.arange(1,50,6)\n",
        "seq_array"
      ],
      "execution_count": 8,
      "outputs": [
        {
          "output_type": "execute_result",
          "data": {
            "text/plain": [
              "array([ 1,  7, 13, 19, 25, 31, 37, 43, 49])"
            ]
          },
          "metadata": {
            "tags": []
          },
          "execution_count": 8
        }
      ]
    },
    {
      "cell_type": "markdown",
      "metadata": {
        "id": "omOhkMxS9Ne9",
        "colab_type": "text"
      },
      "source": [
        "**Analisando os arrays**\n"
      ]
    },
    {
      "cell_type": "code",
      "metadata": {
        "id": "_XGvEcZr8fl5",
        "colab_type": "code",
        "outputId": "6627fcae-700d-4548-8297-5a674ebdf6cf",
        "colab": {
          "base_uri": "https://localhost:8080/",
          "height": 34
        }
      },
      "source": [
        "um_array.shape"
      ],
      "execution_count": 9,
      "outputs": [
        {
          "output_type": "execute_result",
          "data": {
            "text/plain": [
              "(4, 7)"
            ]
          },
          "metadata": {
            "tags": []
          },
          "execution_count": 9
        }
      ]
    },
    {
      "cell_type": "code",
      "metadata": {
        "id": "rvFOjnp9-mBV",
        "colab_type": "code",
        "outputId": "a37a06ed-2cdf-4961-c9b5-8696d4da5c60",
        "colab": {
          "base_uri": "https://localhost:8080/",
          "height": 34
        }
      },
      "source": [
        "um_array.ndim"
      ],
      "execution_count": 10,
      "outputs": [
        {
          "output_type": "execute_result",
          "data": {
            "text/plain": [
              "2"
            ]
          },
          "metadata": {
            "tags": []
          },
          "execution_count": 10
        }
      ]
    },
    {
      "cell_type": "markdown",
      "metadata": {
        "id": "7nJzZNqpfdLl",
        "colab_type": "text"
      },
      "source": [
        "Operações"
      ]
    },
    {
      "cell_type": "code",
      "metadata": {
        "id": "8hIEfLG8_G6B",
        "colab_type": "code",
        "colab": {
          "base_uri": "https://localhost:8080/",
          "height": 34
        },
        "outputId": "e1737840-c7c9-4686-a38a-0641b9672383"
      },
      "source": [
        "array_a = np.array([15,20,25,30])\n",
        "array_b = np.array([10,10,10,10])\n",
        "array_soma = array_a +array_b\n",
        "array_soma"
      ],
      "execution_count": 11,
      "outputs": [
        {
          "output_type": "execute_result",
          "data": {
            "text/plain": [
              "array([25, 30, 35, 40])"
            ]
          },
          "metadata": {
            "tags": []
          },
          "execution_count": 11
        }
      ]
    },
    {
      "cell_type": "code",
      "metadata": {
        "id": "fXN2Vt-LghdS",
        "colab_type": "code",
        "colab": {
          "base_uri": "https://localhost:8080/",
          "height": 34
        },
        "outputId": "5d18a7d5-5785-410b-9db1-25bdca61db7d"
      },
      "source": [
        "array_subtracao =array_a - array_b\n",
        "array_subtracao"
      ],
      "execution_count": 13,
      "outputs": [
        {
          "output_type": "execute_result",
          "data": {
            "text/plain": [
              "array([ 5, 10, 15, 20])"
            ]
          },
          "metadata": {
            "tags": []
          },
          "execution_count": 13
        }
      ]
    },
    {
      "cell_type": "code",
      "metadata": {
        "id": "D9gxq_5ajFpY",
        "colab_type": "code",
        "colab": {
          "base_uri": "https://localhost:8080/",
          "height": 34
        },
        "outputId": "a4b6a5ce-9df5-43ce-8805-278db9c1589a"
      },
      "source": [
        "#Somando uma constante\n",
        "array_a +=100\n",
        "print(array_a) "
      ],
      "execution_count": 20,
      "outputs": [
        {
          "output_type": "stream",
          "text": [
            "[315 320 325 330]\n"
          ],
          "name": "stdout"
        }
      ]
    },
    {
      "cell_type": "code",
      "metadata": {
        "id": "ln0pmjBSjads",
        "colab_type": "code",
        "colab": {
          "base_uri": "https://localhost:8080/",
          "height": 34
        },
        "outputId": "4a83a5a0-a5b6-4485-fefe-ff438ffdf4f0"
      },
      "source": [
        "#Multiplicando por uma constante\n",
        "array_b *=2\n",
        "print(array_b)"
      ],
      "execution_count": 21,
      "outputs": [
        {
          "output_type": "stream",
          "text": [
            "[20 20 20 20]\n"
          ],
          "name": "stdout"
        }
      ]
    },
    {
      "cell_type": "markdown",
      "metadata": {
        "id": "unm4AmNrg-ua",
        "colab_type": "text"
      },
      "source": [
        "**MATRIZ**"
      ]
    },
    {
      "cell_type": "code",
      "metadata": {
        "id": "gAoS70yMgt0f",
        "colab_type": "code",
        "colab": {
          "base_uri": "https://localhost:8080/",
          "height": 153
        },
        "outputId": "9c3347b9-adc2-42f2-90d3-1df0b1c82afb"
      },
      "source": [
        "#Criando a primeira matriz\n",
        "#Atenção!!! matriz precisa de 2 colchetes!!!\n",
        "matriz_a = np.array([[2,3],[4,5]])\n",
        "#Criando a segunda matriz ---> Identidade\n",
        "matriz_b = np.array([[1,0],[0,1]])\n",
        "#multiplicando cada elemento da matriz(i11a*i11b, i12a*112b...) ---> Não é multiplicação de matrizes\n",
        "print(\"Multiplicação de cada elemento da matriz\")\n",
        "print(matriz_a*matriz_b)\n",
        "#Multiplicação de matrizes\n",
        "print(\"Multiplicando as matrizes\")\n",
        "print(matriz_a@matriz_b)\n",
        "#Outra forma de fazer isso é utilizando o  seguinte\n",
        "matriz_a.dot(matriz_b)"
      ],
      "execution_count": 17,
      "outputs": [
        {
          "output_type": "stream",
          "text": [
            "Multiplicação de cada elemento da matriz\n",
            "[[2 0]\n",
            " [0 5]]\n",
            "Multiplicando as matrizes\n",
            "[[2 3]\n",
            " [4 5]]\n"
          ],
          "name": "stdout"
        },
        {
          "output_type": "execute_result",
          "data": {
            "text/plain": [
              "array([[2, 3],\n",
              "       [4, 5]])"
            ]
          },
          "metadata": {
            "tags": []
          },
          "execution_count": 17
        }
      ]
    },
    {
      "cell_type": "code",
      "metadata": {
        "id": "MMM7FZHug7fy",
        "colab_type": "code",
        "colab": {}
      },
      "source": [
        ""
      ],
      "execution_count": 0,
      "outputs": []
    }
  ]
}