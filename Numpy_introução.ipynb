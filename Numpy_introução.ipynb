{
  "nbformat": 4,
  "nbformat_minor": 0,
  "metadata": {
    "colab": {
      "name": "Numpy_introução.ipynb",
      "provenance": [],
      "authorship_tag": "ABX9TyPWf1Sz2YKnHaQtxjCHes/n"
    },
    "kernelspec": {
      "name": "python3",
      "display_name": "Python 3"
    }
  },
  "cells": [
    {
      "cell_type": "markdown",
      "metadata": {
        "id": "540DHqvOy1gg",
        "colab_type": "text"
      },
      "source": [
        "## **NUMPY**"
      ]
    },
    {
      "cell_type": "markdown",
      "metadata": {
        "id": "G-__3t_v0N8h",
        "colab_type": "text"
      },
      "source": [
        "**Primeiros comandos**"
      ]
    },
    {
      "cell_type": "code",
      "metadata": {
        "id": "ela65SDV0nye",
        "colab_type": "code",
        "colab": {}
      },
      "source": [
        "#importando o numpy\n",
        "import numpy as np"
      ],
      "execution_count": 0,
      "outputs": []
    },
    {
      "cell_type": "code",
      "metadata": {
        "id": "bvyjpXvu0_Cy",
        "colab_type": "code",
        "outputId": "9252cde6-6d7e-46c7-95d2-23127a5dc80a",
        "colab": {
          "base_uri": "https://localhost:8080/",
          "height": 51
        }
      },
      "source": [
        "#Criando um array\n",
        "a=np.array([2,5,7])\n",
        "print(a)\n",
        "a.dtype"
      ],
      "execution_count": 0,
      "outputs": [
        {
          "output_type": "stream",
          "text": [
            "[2 5 7]\n"
          ],
          "name": "stdout"
        },
        {
          "output_type": "execute_result",
          "data": {
            "text/plain": [
              "dtype('int64')"
            ]
          },
          "metadata": {
            "tags": []
          },
          "execution_count": 15
        }
      ]
    },
    {
      "cell_type": "code",
      "metadata": {
        "id": "AsVKUm_62aHE",
        "colab_type": "code",
        "outputId": "0d8b5f55-fde3-4248-c24f-fb40e13ff963",
        "colab": {
          "base_uri": "https://localhost:8080/",
          "height": 34
        }
      },
      "source": [
        "#Outro array\n",
        "b= np.array([[2,3,4],[5,6,7]])\n",
        "b.ndim\n"
      ],
      "execution_count": 0,
      "outputs": [
        {
          "output_type": "execute_result",
          "data": {
            "text/plain": [
              "2"
            ]
          },
          "metadata": {
            "tags": []
          },
          "execution_count": 20
        }
      ]
    },
    {
      "cell_type": "code",
      "metadata": {
        "id": "W1BgW_Qv29BQ",
        "colab_type": "code",
        "outputId": "3dde8b1f-a7af-4eb2-b364-5c53f0c3145d",
        "colab": {
          "base_uri": "https://localhost:8080/",
          "height": 51
        }
      },
      "source": [
        "#Podemos definir um array na hora da criação\n",
        "#Criando um array complexo\n",
        "comp_array=np.array([(2+1j,3),(5,6)], dtype=complex)\n",
        "comp_array"
      ],
      "execution_count": 0,
      "outputs": [
        {
          "output_type": "execute_result",
          "data": {
            "text/plain": [
              "array([[2.+1.j, 3.+0.j],\n",
              "       [5.+0.j, 6.+0.j]])"
            ]
          },
          "metadata": {
            "tags": []
          },
          "execution_count": 25
        }
      ]
    },
    {
      "cell_type": "code",
      "metadata": {
        "id": "EBvTsKKs4JTV",
        "colab_type": "code",
        "outputId": "58ea0aec-74b5-460f-8cc4-ceb040c47a4b",
        "colab": {
          "base_uri": "https://localhost:8080/",
          "height": 51
        }
      },
      "source": [
        "#Criando um array de zeros\n",
        "zeros = np.zeros((2,3))\n",
        "zeros"
      ],
      "execution_count": 0,
      "outputs": [
        {
          "output_type": "execute_result",
          "data": {
            "text/plain": [
              "array([[0., 0., 0.],\n",
              "       [0., 0., 0.]])"
            ]
          },
          "metadata": {
            "tags": []
          },
          "execution_count": 26
        }
      ]
    },
    {
      "cell_type": "code",
      "metadata": {
        "id": "2vIAMrUC7MUr",
        "colab_type": "code",
        "outputId": "12e763ef-7f99-4318-8349-672de637a6c9",
        "colab": {
          "base_uri": "https://localhost:8080/",
          "height": 85
        }
      },
      "source": [
        "#Criando um array de número um\n",
        "um_array= np.ones((4,7))\n",
        "um_array"
      ],
      "execution_count": 0,
      "outputs": [
        {
          "output_type": "execute_result",
          "data": {
            "text/plain": [
              "array([[1., 1., 1., 1., 1., 1., 1.],\n",
              "       [1., 1., 1., 1., 1., 1., 1.],\n",
              "       [1., 1., 1., 1., 1., 1., 1.],\n",
              "       [1., 1., 1., 1., 1., 1., 1.]])"
            ]
          },
          "metadata": {
            "tags": []
          },
          "execution_count": 29
        }
      ]
    },
    {
      "cell_type": "code",
      "metadata": {
        "id": "2a8A-3mK76Fu",
        "colab_type": "code",
        "outputId": "0d299afe-5405-487f-fa7d-1a3fb5efa857",
        "colab": {
          "base_uri": "https://localhost:8080/",
          "height": 34
        }
      },
      "source": [
        "#Array de sequancia de números\n",
        "seq_array = np.arange(1,50,6)\n",
        "seq_array"
      ],
      "execution_count": 0,
      "outputs": [
        {
          "output_type": "execute_result",
          "data": {
            "text/plain": [
              "array([ 1,  7, 13, 19, 25, 31, 37, 43, 49])"
            ]
          },
          "metadata": {
            "tags": []
          },
          "execution_count": 31
        }
      ]
    },
    {
      "cell_type": "markdown",
      "metadata": {
        "id": "omOhkMxS9Ne9",
        "colab_type": "text"
      },
      "source": [
        "**Analisando os arrays**\n"
      ]
    },
    {
      "cell_type": "code",
      "metadata": {
        "id": "_XGvEcZr8fl5",
        "colab_type": "code",
        "outputId": "d331ee07-d1d5-412b-aec1-bc48be6a443d",
        "colab": {
          "base_uri": "https://localhost:8080/",
          "height": 34
        }
      },
      "source": [
        "um_array.shape"
      ],
      "execution_count": 0,
      "outputs": [
        {
          "output_type": "execute_result",
          "data": {
            "text/plain": [
              "(4, 7)"
            ]
          },
          "metadata": {
            "tags": []
          },
          "execution_count": 32
        }
      ]
    },
    {
      "cell_type": "code",
      "metadata": {
        "id": "rvFOjnp9-mBV",
        "colab_type": "code",
        "outputId": "1d1dbd7d-08ad-40f7-dc76-d2d3520d1d0d",
        "colab": {
          "base_uri": "https://localhost:8080/",
          "height": 34
        }
      },
      "source": [
        "um_array.ndim"
      ],
      "execution_count": 0,
      "outputs": [
        {
          "output_type": "execute_result",
          "data": {
            "text/plain": [
              "2"
            ]
          },
          "metadata": {
            "tags": []
          },
          "execution_count": 33
        }
      ]
    },
    {
      "cell_type": "code",
      "metadata": {
        "id": "8hIEfLG8_G6B",
        "colab_type": "code",
        "colab": {}
      },
      "source": [
        ""
      ],
      "execution_count": 0,
      "outputs": []
    }
  ]
}