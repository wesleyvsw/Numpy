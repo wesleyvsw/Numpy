{
  "nbformat": 4,
  "nbformat_minor": 0,
  "metadata": {
    "colab": {
      "name": "TensorFlow_math.ipynb",
      "provenance": [],
      "authorship_tag": "ABX9TyOitTTzuNokYL/olEpiE62L"
    },
    "kernelspec": {
      "name": "python3",
      "display_name": "Python 3"
    }
  },
  "cells": [
    {
      "cell_type": "markdown",
      "metadata": {
        "id": "NIilYNIppG7N",
        "colab_type": "text"
      },
      "source": [
        "# **TensorFlow - Tensores**\n",
        " O TensorFlow é uma biblioteca de computação numérica. Parecido com numpy, uma de suas diferenças é o suporte para GPU. O TensorFlow utiliza o conceito de tensores, que são parecidos com os famosos arrays do numpy com a diferença que o tf pode ter um único escalar. Poderiamos utilizar o keras para fazer modelos de DL, mas o tensorflow permite fazer alguns ajustes que o keras não consegue."
      ]
    },
    {
      "cell_type": "code",
      "metadata": {
        "id": "YarN-rofoqBA",
        "colab_type": "code",
        "colab": {}
      },
      "source": [
        "#Importando o TensorFlow\n",
        "import tensorflow as tf\n",
        "import numpy as np"
      ],
      "execution_count": 20,
      "outputs": []
    },
    {
      "cell_type": "code",
      "metadata": {
        "id": "FOAT3G9YsT8x",
        "colab_type": "code",
        "colab": {
          "base_uri": "https://localhost:8080/",
          "height": 85
        },
        "outputId": "81794026-7781-4f81-8658-7a6dce2992fe"
      },
      "source": [
        "#Criando o primeiro tensor. Observe que ele dá o formato(3x3)\n",
        "tf.constant([[25,35,49],[18,19,20],[21,22,28]])"
      ],
      "execution_count": 3,
      "outputs": [
        {
          "output_type": "execute_result",
          "data": {
            "text/plain": [
              "<tf.Tensor: shape=(3, 3), dtype=int32, numpy=\n",
              "array([[25, 35, 49],\n",
              "       [18, 19, 20],\n",
              "       [21, 22, 28]], dtype=int32)>"
            ]
          },
          "metadata": {
            "tags": []
          },
          "execution_count": 3
        }
      ]
    },
    {
      "cell_type": "code",
      "metadata": {
        "id": "mBkRUeRDtYLt",
        "colab_type": "code",
        "colab": {
          "base_uri": "https://localhost:8080/",
          "height": 34
        },
        "outputId": "46f2b3cf-c720-4b4a-fc12-2e67395cc27e"
      },
      "source": [
        "#Criando o escalar\n",
        "tf.constant(25)"
      ],
      "execution_count": 6,
      "outputs": [
        {
          "output_type": "execute_result",
          "data": {
            "text/plain": [
              "<tf.Tensor: shape=(), dtype=int32, numpy=25>"
            ]
          },
          "metadata": {
            "tags": []
          },
          "execution_count": 6
        }
      ]
    },
    {
      "cell_type": "code",
      "metadata": {
        "id": "F7-jxvKetobw",
        "colab_type": "code",
        "colab": {
          "base_uri": "https://localhost:8080/",
          "height": 34
        },
        "outputId": "45519261-3d52-4d0d-e9de-a73eebcd5060"
      },
      "source": [
        "tensor_1_flamengo_brasileiros= tf.constant([[80,82],[83,87],[92,2009],[19,20]])\n",
        "#Observação: Coloquei 2009 pois o TensorFlow não aceita zero a esquerda\n",
        "tensor_1_flamengo_brasileiros.shape"
      ],
      "execution_count": 10,
      "outputs": [
        {
          "output_type": "execute_result",
          "data": {
            "text/plain": [
              "TensorShape([4, 2])"
            ]
          },
          "metadata": {
            "tags": []
          },
          "execution_count": 10
        }
      ]
    },
    {
      "cell_type": "markdown",
      "metadata": {
        "id": "_-2NoDLCvPoV",
        "colab_type": "text"
      },
      "source": [
        "**Operações** **com** **Tensores**"
      ]
    },
    {
      "cell_type": "code",
      "metadata": {
        "id": "74ulLsi0vLX8",
        "colab_type": "code",
        "colab": {
          "base_uri": "https://localhost:8080/",
          "height": 68
        },
        "outputId": "25de4948-d0e5-4e83-c909-c922bceccc37"
      },
      "source": [
        "tensor_1 = tf.constant([[1,2,3],[4,5,6]])\n",
        "tensor_1 + 2\n",
        "#ou\n",
        "tf.add(tensor_1,10)"
      ],
      "execution_count": 17,
      "outputs": [
        {
          "output_type": "execute_result",
          "data": {
            "text/plain": [
              "<tf.Tensor: shape=(2, 3), dtype=int32, numpy=\n",
              "array([[11, 12, 13],\n",
              "       [14, 15, 16]], dtype=int32)>"
            ]
          },
          "metadata": {
            "tags": []
          },
          "execution_count": 17
        }
      ]
    },
    {
      "cell_type": "code",
      "metadata": {
        "id": "mj2_4ZQMvo74",
        "colab_type": "code",
        "colab": {
          "base_uri": "https://localhost:8080/",
          "height": 68
        },
        "outputId": "c0e2b697-6b38-4486-c73c-de16d6ccd5cd"
      },
      "source": [
        "tf.square(tensor_1)"
      ],
      "execution_count": 15,
      "outputs": [
        {
          "output_type": "execute_result",
          "data": {
            "text/plain": [
              "<tf.Tensor: shape=(2, 3), dtype=int32, numpy=\n",
              "array([[ 1,  4,  9],\n",
              "       [16, 25, 36]], dtype=int32)>"
            ]
          },
          "metadata": {
            "tags": []
          },
          "execution_count": 15
        }
      ]
    },
    {
      "cell_type": "code",
      "metadata": {
        "id": "ydgMurZgv69F",
        "colab_type": "code",
        "colab": {
          "base_uri": "https://localhost:8080/",
          "height": 68
        },
        "outputId": "faf74171-4c2f-4fc4-b3c5-b9fbb467853d"
      },
      "source": [
        "tf.multiply(tensor_1,4)"
      ],
      "execution_count": 18,
      "outputs": [
        {
          "output_type": "execute_result",
          "data": {
            "text/plain": [
              "<tf.Tensor: shape=(2, 3), dtype=int32, numpy=\n",
              "array([[ 4,  8, 12],\n",
              "       [16, 20, 24]], dtype=int32)>"
            ]
          },
          "metadata": {
            "tags": []
          },
          "execution_count": 18
        }
      ]
    },
    {
      "cell_type": "code",
      "metadata": {
        "id": "7PgMvwmkwgg0",
        "colab_type": "code",
        "colab": {
          "base_uri": "https://localhost:8080/",
          "height": 34
        },
        "outputId": "72ea3d24-d75a-454b-b52d-cba928577062"
      },
      "source": [
        "#TensorFlow consegue trabalhar bem com numpy\n",
        "array_numpy= np.array([2,3,4])\n",
        "b = tf.square(array_numpy)\n",
        "b"
      ],
      "execution_count": 22,
      "outputs": [
        {
          "output_type": "execute_result",
          "data": {
            "text/plain": [
              "<tf.Tensor: shape=(3,), dtype=int64, numpy=array([ 4,  9, 16])>"
            ]
          },
          "metadata": {
            "tags": []
          },
          "execution_count": 22
        }
      ]
    },
    {
      "cell_type": "code",
      "metadata": {
        "id": "MIAeyhfOzcbU",
        "colab_type": "code",
        "colab": {
          "base_uri": "https://localhost:8080/",
          "height": 34
        },
        "outputId": "69e1f245-8e9c-40b0-ba43-b1f0ef1c914a"
      },
      "source": [
        "#TensorFlow não consegue trabalhar com tipos de variáveis diferentes\n",
        "#tf.constant(10.)+tf.constant(15) ---> Dá erro!!! Tirar do comentário e \n",
        "# O erro é proposital!! Para resolver, precisamos converter\n",
        "tensor2 = tf.constant(50., dtype=tf.float64)\n",
        "tf.constant(10.0) + tf.cast(tensor2, tf.float32)\n"
      ],
      "execution_count": 27,
      "outputs": [
        {
          "output_type": "execute_result",
          "data": {
            "text/plain": [
              "<tf.Tensor: shape=(), dtype=float32, numpy=60.0>"
            ]
          },
          "metadata": {
            "tags": []
          },
          "execution_count": 27
        }
      ]
    },
    {
      "cell_type": "code",
      "metadata": {
        "id": "D9NNIylk2Jub",
        "colab_type": "code",
        "colab": {
          "base_uri": "https://localhost:8080/",
          "height": 68
        },
        "outputId": "21fbd7d9-20f2-4936-c91b-efdc3b2621d6"
      },
      "source": [
        "#Variáveis. As variáveis podem ser alteradas.\n",
        "variavel = tf.Variable([[10,11,12],[13,14,15]])\n",
        "variavel.assign(10*variavel)"
      ],
      "execution_count": 29,
      "outputs": [
        {
          "output_type": "execute_result",
          "data": {
            "text/plain": [
              "<tf.Variable 'UnreadVariable' shape=(2, 3) dtype=int32, numpy=\n",
              "array([[100, 110, 120],\n",
              "       [130, 140, 150]], dtype=int32)>"
            ]
          },
          "metadata": {
            "tags": []
          },
          "execution_count": 29
        }
      ]
    }
  ]
}