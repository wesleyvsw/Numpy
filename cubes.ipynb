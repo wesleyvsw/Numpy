{
  "nbformat": 4,
  "nbformat_minor": 0,
  "metadata": {
    "colab": {
      "name": "cubes.ipynb",
      "provenance": [],
      "authorship_tag": "ABX9TyNpr7rSfD6O4vZ5NyaY/Uah",
      "include_colab_link": true
    },
    "kernelspec": {
      "name": "python3",
      "display_name": "Python 3"
    }
  },
  "cells": [
    {
      "cell_type": "markdown",
      "metadata": {
        "id": "view-in-github",
        "colab_type": "text"
      },
      "source": [
        "<a href=\"https://colab.research.google.com/github/wesleyvsw/Numpy-TF/blob/master/cubes.ipynb\" target=\"_parent\"><img src=\"https://colab.research.google.com/assets/colab-badge.svg\" alt=\"Open In Colab\"/></a>"
      ]
    },
    {
      "cell_type": "code",
      "metadata": {
        "id": "KO0x-3URZmXb",
        "colab_type": "code",
        "colab": {}
      },
      "source": [
        "def cubes(l):\n",
        "  l3 = []\n",
        "  for x in range(len(l)):\n",
        "    l3.append(l[x]**3)\n",
        "  return l3"
      ],
      "execution_count": 5,
      "outputs": []
    },
    {
      "cell_type": "code",
      "metadata": {
        "id": "gBV7ec7-afcD",
        "colab_type": "code",
        "colab": {
          "base_uri": "https://localhost:8080/",
          "height": 34
        },
        "outputId": "a7105190-04ec-44b5-da01-89e1f273179b"
      },
      "source": [
        "cubes([1,2,3,4])"
      ],
      "execution_count": 7,
      "outputs": [
        {
          "output_type": "execute_result",
          "data": {
            "text/plain": [
              "[1, 8, 27, 64]"
            ]
          },
          "metadata": {
            "tags": []
          },
          "execution_count": 7
        }
      ]
    }
  ]
}