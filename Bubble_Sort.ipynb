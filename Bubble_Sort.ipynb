{
  "nbformat": 4,
  "nbformat_minor": 0,
  "metadata": {
    "colab": {
      "name": "Bubble_Sort.ipynb",
      "provenance": [],
      "authorship_tag": "ABX9TyMM3T8uVnbzlH8zNzd17ArB"
    },
    "kernelspec": {
      "name": "python3",
      "display_name": "Python 3"
    }
  },
  "cells": [
    {
      "cell_type": "markdown",
      "metadata": {
        "id": "PEh-tKkii02L",
        "colab_type": "text"
      },
      "source": [
        "# Bubble Sort\n",
        "\n",
        "*   Lista vai passando\n",
        "*   Se o elemento anterior for maior que o elemento posterior, eles trocam de posição\n",
        "*   A lista passa n vezes que é o tamanho da lista\n",
        "\n",
        "\n"
      ]
    },
    {
      "cell_type": "code",
      "metadata": {
        "id": "vXb80It-gX9k",
        "colab_type": "code",
        "colab": {}
      },
      "source": [
        "def bubble_sort(l):\n",
        "  for y in range(len(l)-1):\n",
        "    for x in range(len(l)-1):\n",
        "      if l[x]>l[x+1]:\n",
        "        l[x], l[x+1] = l[x+1],l[x]\n",
        "  return l"
      ],
      "execution_count": 11,
      "outputs": []
    },
    {
      "cell_type": "code",
      "metadata": {
        "id": "GqQOgZK7dM4K",
        "colab_type": "code",
        "colab": {
          "base_uri": "https://localhost:8080/",
          "height": 34
        },
        "outputId": "42519bbd-3b5c-4747-9c6a-bd8c2b9cdca4"
      },
      "source": [
        "lista = [9,7,1,4,13,28,12]\n",
        "bubble_sort(lista)"
      ],
      "execution_count": 12,
      "outputs": [
        {
          "output_type": "execute_result",
          "data": {
            "text/plain": [
              "[1, 4, 7, 9, 12, 13, 28]"
            ]
          },
          "metadata": {
            "tags": []
          },
          "execution_count": 12
        }
      ]
    }
  ]
}